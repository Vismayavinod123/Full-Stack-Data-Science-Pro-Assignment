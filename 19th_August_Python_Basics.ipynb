{
 "cells": [
  {
   "cell_type": "markdown",
   "id": "12e1e83d",
   "metadata": {},
   "source": [
    "# TOPIC: Python Basics Variable"
   ]
  },
  {
   "cell_type": "markdown",
   "id": "a18d320f",
   "metadata": {},
   "source": [
    "Q1. Declare two variables, `x` and `y`, and assign them integer values. Swap the\n",
    "values of these variables without using any temporary variable."
   ]
  },
  {
   "cell_type": "code",
   "execution_count": 1,
   "id": "0aeaf226",
   "metadata": {},
   "outputs": [
    {
     "name": "stdout",
     "output_type": "stream",
     "text": [
      "the Swapped Value for x =  2  and the Swapped Value for y = 11\n"
     ]
    }
   ],
   "source": [
    "x = 11\n",
    "y = 2\n",
    "x = x + y\n",
    "y = x- y\n",
    "x = x - y\n",
    "print(\"the Swapped Value for x = \", x, \" and the Swapped Value for y =\", y)\n"
   ]
  },
  {
   "cell_type": "markdown",
   "id": "d0c25cd4",
   "metadata": {},
   "source": [
    "Q2. Create a program that calculates the area of a rectangle. Take the length and\n",
    "width as inputs from the user and store them in variables. Calculate and\n",
    "display the area."
   ]
  },
  {
   "cell_type": "code",
   "execution_count": 2,
   "id": "c761c60e",
   "metadata": {},
   "outputs": [
    {
     "name": "stdout",
     "output_type": "stream",
     "text": [
      "Enter the length of the rectangle : 20\n",
      "Enter the Width of the rectangle : 15\n",
      "The Area of the Rectangle is  300\n"
     ]
    }
   ],
   "source": [
    "l = input(\"Enter the length of the rectangle : \")\n",
    "w = input(\"Enter the Width of the rectangle : \")\n",
    "area = int(l)*int(w)\n",
    "print(\"The Area of the Rectangle is \",area)"
   ]
  },
  {
   "cell_type": "markdown",
   "id": "537985ed",
   "metadata": {},
   "source": [
    "Q3. Write a Python program that converts temperatures from Celsius to\n",
    "Fahrenheit. Take the temperature in Celsius as input, store it in a variable,\n",
    "convert it to Fahrenheit, and display the result."
   ]
  },
  {
   "cell_type": "code",
   "execution_count": 3,
   "id": "c498c42a",
   "metadata": {},
   "outputs": [
    {
     "name": "stdout",
     "output_type": "stream",
     "text": [
      "Enter the temperature in degree Celsius 15\n",
      "The temperature  15 °C is  59.0 °F\n"
     ]
    }
   ],
   "source": [
    "c = int(input(\"Enter the temperature in degree Celsius \"))\n",
    "f  = (c*(9/5)) + 32\n",
    "print(\"The temperature \",c,\"°C is \",f,\"°F\")"
   ]
  },
  {
   "cell_type": "markdown",
   "id": "1223295c",
   "metadata": {},
   "source": [
    "# TOPIC: String Based Questions"
   ]
  },
  {
   "cell_type": "markdown",
   "id": "5da92aeb",
   "metadata": {},
   "source": [
    "Q1. Write a Python program that takes a string as input and prints the length of\n",
    "the string."
   ]
  },
  {
   "cell_type": "code",
   "execution_count": 4,
   "id": "9c58a396",
   "metadata": {},
   "outputs": [
    {
     "name": "stdout",
     "output_type": "stream",
     "text": [
      "Enter the String testing\n",
      "lenghth of the string is  7\n"
     ]
    }
   ],
   "source": [
    "s  = input(\"Enter the String \")\n",
    "print(\"lenghth of the string is \",len(s))"
   ]
  },
  {
   "cell_type": "markdown",
   "id": "d93cd173",
   "metadata": {},
   "source": [
    "Q2. Create a program that takes a sentence from the user and counts the number\n",
    "of vowels (a, e, i, o, u) in the string.\n"
   ]
  },
  {
   "cell_type": "code",
   "execution_count": 5,
   "id": "cb6d0bf0",
   "metadata": {},
   "outputs": [
    {
     "name": "stdout",
     "output_type": "stream",
     "text": [
      "Enter the Sentence enter the sentences for vowel\n",
      "Count of vowels in the sentence =  9\n"
     ]
    }
   ],
   "source": [
    "sentence = input(\"Enter the Sentence \")\n",
    "count  = 0\n",
    "for i in sentence:\n",
    "    if i in \"aeiouAEIOU\":\n",
    "        count = count+1\n",
    "print(\"Count of vowels in the sentence = \",count)\n",
    "    \n",
    "\n",
    "    \n"
   ]
  },
  {
   "cell_type": "markdown",
   "id": "c4257db7",
   "metadata": {},
   "source": [
    "Q3. Given a string, reverse the order of characters using string slicing and print\n",
    "the reversed string."
   ]
  },
  {
   "cell_type": "code",
   "execution_count": 7,
   "id": "eb681a92",
   "metadata": {},
   "outputs": [
    {
     "name": "stdout",
     "output_type": "stream",
     "text": [
      "Enter the String radarrr\n",
      "Reversed String  =  rrradar\n"
     ]
    }
   ],
   "source": [
    "sww  = input(\"Enter the String \")\n",
    "rev = sww[::-1]\n",
    "print(\"Reversed String  = \",rev)\n"
   ]
  },
  {
   "cell_type": "markdown",
   "id": "eb12c70b",
   "metadata": {},
   "source": [
    "Q4. Write a program that takes a string as input and checks if it is a palindrome\n",
    "(reads the same forwards and backwards)."
   ]
  },
  {
   "cell_type": "code",
   "execution_count": 8,
   "id": "d39e2669",
   "metadata": {},
   "outputs": [
    {
     "name": "stdout",
     "output_type": "stream",
     "text": [
      "Enter the String radar\n",
      "The String is palindrome\n"
     ]
    }
   ],
   "source": [
    "string  = input(\"Enter the String \")\n",
    "reverse = string[::-1]\n",
    "if string == reverse:\n",
    "    print(\"The String is palindrome\")\n",
    "else:\n",
    "    print(\"The String is not palindrome\")"
   ]
  },
  {
   "cell_type": "markdown",
   "id": "aa41a46b",
   "metadata": {},
   "source": [
    "Q5. Create a program that takes a string as input and removes all the spaces from\n",
    "it. Print the modified string without spaces."
   ]
  },
  {
   "cell_type": "code",
   "execution_count": 10,
   "id": "e0432135",
   "metadata": {},
   "outputs": [
    {
     "name": "stdout",
     "output_type": "stream",
     "text": [
      "Enter the Strings radar raf sj\n",
      "modified string without spaces radarrafsj\n"
     ]
    }
   ],
   "source": [
    "strings  = input(\"Enter the Strings \")\n",
    "vv = strings.strip().replace(\" \",\"\")\n",
    "print(\"modified string without spaces\",vv)"
   ]
  }
 ],
 "metadata": {
  "kernelspec": {
   "display_name": "Python 3 (ipykernel)",
   "language": "python",
   "name": "python3"
  },
  "language_info": {
   "codemirror_mode": {
    "name": "ipython",
    "version": 3
   },
   "file_extension": ".py",
   "mimetype": "text/x-python",
   "name": "python",
   "nbconvert_exporter": "python",
   "pygments_lexer": "ipython3",
   "version": "3.9.7"
  }
 },
 "nbformat": 4,
 "nbformat_minor": 5
}
